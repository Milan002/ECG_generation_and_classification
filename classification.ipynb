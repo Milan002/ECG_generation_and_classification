{
 "cells": [
  {
   "cell_type": "markdown",
   "metadata": {},
   "source": [
    "### Train a 1D CNN model to classify the synthetic ECG data and test the model on real data "
   ]
  },
  {
   "cell_type": "code",
   "execution_count": 1,
   "metadata": {},
   "outputs": [],
   "source": [
    "from synDataLoader import syn_mitbih, mixed_mitbih\n",
    "from DataLoader import mitbih_train, mitbih_test"
   ]
  },
  {
   "cell_type": "code",
   "execution_count": 2,
   "metadata": {},
   "outputs": [],
   "source": [
    "from main_torch import CNNLSTMModel"
   ]
  },
  {
   "cell_type": "code",
   "execution_count": 21,
   "metadata": {},
   "outputs": [
    {
     "name": "stdout",
     "output_type": "stream",
     "text": [
      "data shape is (20000, 1, 187)\n",
      "labels shape is (20000,)\n",
      "The dataset including 4000 class 0, 4000 class 1, 4000 class 2, 4000 class 3, 4000 class 4\n",
      "X_train shape is (5000, 1, 187)\n",
      "y_train shape is (5000,)\n",
      "The dataset including 1000 class 0, 1000 class 1, 1000 class 2, 1000 class 3, 1000 class 4\n",
      "data shape is (25000, 1, 187)\n",
      "labels shape is (25000,)\n"
     ]
    }
   ],
   "source": [
    "mixed_ecg = mixed_mitbih(real_samples = 1000, syn_samples = 4000)"
   ]
  },
  {
   "cell_type": "code",
   "execution_count": 4,
   "metadata": {},
   "outputs": [
    {
     "name": "stdout",
     "output_type": "stream",
     "text": [
      "data shape is (2000, 1, 187)\n",
      "labels shape is (2000,)\n",
      "The dataset including 400 class 0, 400 class 1, 400 class 2, 400 class 3, 400 class 4\n"
     ]
    }
   ],
   "source": [
    "syn_ecg = syn_mitbih(n_samples=400, reshape=True)"
   ]
  },
  {
   "cell_type": "code",
   "execution_count": 5,
   "metadata": {},
   "outputs": [
    {
     "name": "stdout",
     "output_type": "stream",
     "text": [
      "X_train shape is (5000, 1, 187)\n",
      "y_train shape is (5000,)\n",
      "The dataset including 1000 class 0, 1000 class 1, 1000 class 2, 1000 class 3, 1000 class 4\n"
     ]
    }
   ],
   "source": [
    "real_ecg = mitbih_train(n_samples=1000, oneD=True)"
   ]
  },
  {
   "cell_type": "code",
   "execution_count": 22,
   "metadata": {},
   "outputs": [
    {
     "name": "stdout",
     "output_type": "stream",
     "text": [
      "X_test shape is (5000, 1, 187)\n",
      "y_test shape is (5000,)\n",
      "The dataset including 15003 class 0, 1614 class 1, 1451 class 2, 509 class 3, 1426 class 4\n"
     ]
    }
   ],
   "source": [
    "real_test_ecg = mitbih_test(n_samples=1000, oneD=True)"
   ]
  },
  {
   "cell_type": "code",
   "execution_count": 7,
   "metadata": {},
   "outputs": [],
   "source": [
    "from torch.utils import data\n",
    "syn_loader = data.DataLoader(syn_ecg, batch_size=32, num_workers=4, shuffle=True)\n",
    "real_loader = data.DataLoader(real_ecg, batch_size=32, num_workers=4, shuffle=True)\n",
    "mixed_loader = data.DataLoader(mixed_ecg, batch_size=32, num_workers=4, shuffle=True)\n",
    "test_real_loader = data.DataLoader(real_test_ecg, batch_size=32, num_workers=4, shuffle=True)"
   ]
  },
  {
   "cell_type": "code",
   "execution_count": 30,
   "metadata": {},
   "outputs": [],
   "source": [
    "#Define a simple CNN classifier \n",
    "import torch\n",
    "import torch.nn as nn\n",
    "import torch.nn.functional as F\n",
    "\n",
    "\n",
    "class ECG_Net(nn.Module):\n",
    "    def __init__(self):\n",
    "        super().__init__()\n",
    "        self.conv1 = nn.Conv1d(1, 64, 6)\n",
    "        self.conv2 = nn.Conv1d(64, 64, 6)\n",
    "        self.conv3 = nn.Conv1d(64, 64, 3)\n",
    "        self.dropout = nn.Dropout(p=0.5) \n",
    "        self.pool = nn.MaxPool1d(3)\n",
    "        self.flatten = nn.Flatten()\n",
    "        self.fc1 = nn.Linear(1152, 100)\n",
    "        self.fc2 = nn.Linear(100, 5)\n",
    "\n",
    "    def forward(self, x):\n",
    "        x = F.relu(self.conv1(x))\n",
    "        x = F.relu(self.conv2(x))\n",
    "        x = self.dropout(x)\n",
    "        x = self.pool(x)\n",
    "        x = F.relu(self.conv2(x))\n",
    "        x = self.pool(x)\n",
    "        x = self.flatten(x)\n",
    "        x = F.relu(self.fc1(x))\n",
    "        x = self.fc2(x)\n",
    "        \n",
    "        return x\n"
   ]
  },
  {
   "cell_type": "code",
   "execution_count": 23,
   "metadata": {},
   "outputs": [],
   "source": [
    "def train(model, train_data_loader, test_data_loader, epochs, criterion, optimizer, filename=\"test_cm\"):\n",
    "    for epoch in range(epochs):  # loop over the dataset multiple times\n",
    "        model.train()\n",
    "        total_loss = 0.0\n",
    "        total = 0\n",
    "        correct = 0\n",
    "\n",
    "        for i, data in enumerate(train_data_loader):\n",
    "            # get the inputs; data is a list of [inputs, labels]\n",
    "            inputs, labels = data\n",
    "            inputs = inputs.double()\n",
    "            labels = labels.long()\n",
    "\n",
    "            # zero the parameter gradients\n",
    "            optimizer.zero_grad()\n",
    "\n",
    "            # forward + backward + optimize\n",
    "            outputs = model(inputs)\n",
    "            loss = criterion(outputs, labels)\n",
    "            loss.backward()\n",
    "            optimizer.step()\n",
    "\n",
    "            # print statistics\n",
    "            total_loss += loss.item()\n",
    "            \n",
    "            _, predicted = torch.max(outputs.data, 1)\n",
    "            total += labels.size(0)\n",
    "            correct += (predicted == labels).sum().item()\n",
    "            \n",
    "        epoch_train_loss = total_loss / len(train_data_loader)\n",
    "        epoch_train_acc = correct / total\n",
    "        print(f'Epoch {epoch + 1}, train loss = {epoch_train_loss}, train acc = {epoch_train_acc}')\n",
    "\n",
    "        if (epoch+1) % 5 == 0:\n",
    "            _eval(model, test_data_loader, criterion, epoch)\n",
    "#             _eval_single_class(model, test_data_loader, criterion, epoch)\n",
    "            \n",
    "    _final_eval(model, test_data_loader, criterion, filename)\n",
    "\n",
    "    print('Finished Training and testing')"
   ]
  },
  {
   "cell_type": "code",
   "execution_count": 24,
   "metadata": {},
   "outputs": [],
   "source": [
    "def _eval(model, real_test_loader, criterion, epoch):\n",
    "    model.eval()\n",
    "    total_loss = 0.0\n",
    "    correct = 0\n",
    "    total = 0\n",
    "    with torch.no_grad():\n",
    "        for i, data in enumerate(real_test_loader):\n",
    "            # get the inputs; data is a list of [inputs, labels]\n",
    "            inputs, labels = data\n",
    "            inputs = inputs.double()\n",
    "            labels = labels.long()\n",
    "\n",
    "            outputs = model(inputs)\n",
    "            loss = criterion(outputs, labels)\n",
    "\n",
    "            # print statistics\n",
    "            total_loss += loss.item()\n",
    "\n",
    "            _, predicted = torch.max(outputs.data, 1)\n",
    "            total += labels.size(0)\n",
    "            correct += (predicted == labels).sum().item()\n",
    "\n",
    "        epoch_test_loss = total_loss / len(real_test_loader)\n",
    "        epoch_test_acc = correct / total\n",
    "    \n",
    "    print('=====================================================')\n",
    "    print(f'Epoch {epoch+1}, test loss = {epoch_test_loss}, test acc = {epoch_test_acc}')\n",
    "    print('=====================================================')"
   ]
  },
  {
   "cell_type": "code",
   "execution_count": 25,
   "metadata": {},
   "outputs": [],
   "source": [
    "classes = ['Non-Ectopic Beats', 'Superventrical Ectopic', 'Ventricular Beats', 'Unknown', 'Fusion Beats']\n",
    "classes_idx = ['1','2','3','4','5']\n",
    "correct_pred = {classname: 0 for classname in classes}\n",
    "total_pred = {classname: 0 for classname in classes}"
   ]
  },
  {
   "cell_type": "code",
   "execution_count": 26,
   "metadata": {},
   "outputs": [],
   "source": [
    "def _eval_single_class(model, real_test_loader, criterion, epoch):\n",
    "    model.eval()\n",
    "    total_loss = 0.0\n",
    "    correct = 0\n",
    "    total = 0\n",
    "    with torch.no_grad():\n",
    "        for i, data in enumerate(real_test_loader):\n",
    "            # get the inputs; data is a list of [inputs, labels]\n",
    "            inputs, labels = data\n",
    "            inputs = inputs.double()\n",
    "            labels = labels.long()\n",
    "\n",
    "            outputs = model(inputs)\n",
    "            loss = criterion(outputs, labels)\n",
    "\n",
    "            # print statistics\n",
    "            total_loss += loss.item()\n",
    "            _, predictions = torch.max(outputs, 1)\n",
    "            # collect the correct predictions for each class\n",
    "            for label, prediction in zip(labels, predictions):\n",
    "                if label == prediction:\n",
    "                    correct_pred[classes[label]] += 1\n",
    "                total_pred[classes[label]] += 1\n",
    "\n",
    "\n",
    "    # print accuracy for each class\n",
    "    for classname, correct_count in correct_pred.items():\n",
    "        accuracy = 100 * float(correct_count) / total_pred[classname]\n",
    "        print(\"Accuracy for class {:5s} is: {:.1f} %\".format(classname,\n",
    "                                                       accuracy))"
   ]
  },
  {
   "cell_type": "code",
   "execution_count": 27,
   "metadata": {},
   "outputs": [],
   "source": [
    "from sklearn.metrics import confusion_matrix\n",
    "from sklearn.metrics import classification_report\n",
    "import seaborn as sns\n",
    "import pandas as pd\n",
    "import matplotlib.pyplot as plt\n",
    "\n",
    "def _final_eval(model, real_test_loader, criterion, filename=\"test_cm\"):\n",
    "    nb_classes = 5\n",
    "    predlist=torch.zeros(0,dtype=torch.long, device='cpu')\n",
    "    lbllist=torch.zeros(0,dtype=torch.long, device='cpu')\n",
    "    target_names = classes\n",
    "    y_preds = []\n",
    "    y_trues = []\n",
    "    with torch.no_grad():\n",
    "        for i, data in enumerate(real_test_loader):\n",
    "            inputs, labels = data\n",
    "            inputs = inputs.double()\n",
    "            labels = labels.long()\n",
    "            \n",
    "            outputs = model(inputs)\n",
    "            _, predictions = torch.max(outputs, 1)\n",
    "\n",
    "            # Append batch prediction results\n",
    "            predlist=torch.cat([predlist,predictions.view(-1).cpu()])\n",
    "            lbllist=torch.cat([lbllist,labels.view(-1).cpu()])\n",
    "            \n",
    "            y_preds.append(predictions)\n",
    "            y_trues.append(labels)\n",
    "            \n",
    "    # Confusion matrix\n",
    "    cm=confusion_matrix(lbllist.numpy(), predlist.numpy())\n",
    "    print(cm)\n",
    "    cm_df = pd.DataFrame(cm,\n",
    "                     index = classes_idx, \n",
    "                     columns = classes_idx)\n",
    "    fig = plt.figure(figsize=(6.5,5))\n",
    "    sns.heatmap(cm_df, annot=True, fmt='d', cmap='cubehelix_r')\n",
    "#     plt.title('ECG classification Accuracy')\n",
    "    plt.ylabel('True label')\n",
    "    plt.xlabel('Predicted label')\n",
    "    plt.tight_layout() # keeps labels from being cutoff when saving as pdf\n",
    "    plt.savefig(f'{filename}.pdf')\n",
    "    plt.show()\n",
    "    \n",
    "    # Per-class accuracy\n",
    "    class_accuracy = 100*cm.diagonal() / cm.sum(1)\n",
    "    print(class_accuracy)\n",
    "    \n",
    "    #print classification report \n",
    "    y_preds_flatten = [label for sublist in y_preds for label in sublist]\n",
    "    y_trues_flatten = [label for sublist in y_trues for label in sublist]\n",
    "    \n",
    "    print(classification_report(y_trues_flatten, y_preds_flatten, target_names=classes))"
   ]
  },
  {
   "cell_type": "code",
   "execution_count": 28,
   "metadata": {},
   "outputs": [],
   "source": [
    "import os\n",
    "import datetime\n",
    "import numpy as np\n",
    "import torch\n",
    "import torch.nn as nn\n",
    "import torch.nn.functional as F\n",
    "from torch.utils.data import Dataset, DataLoader\n",
    "from torchinfo import summary\n",
    "from torch.utils.tensorboard import SummaryWriter\n",
    "from torch.nn.parameter import Parameter\n",
    "from sklearn.metrics import accuracy_score\n",
    "from tqdm import tqdm"
   ]
  },
  {
   "cell_type": "code",
   "execution_count": 17,
   "metadata": {},
   "outputs": [
    {
     "name": "stdout",
     "output_type": "stream",
     "text": [
      "Epoch 1, train loss = 1.610037201294996, train acc = 0.2085\n",
      "Epoch 2, train loss = 1.6101285431822523, train acc = 0.2035\n"
     ]
    },
    {
     "name": "stdout",
     "output_type": "stream",
     "text": [
      "Epoch 3, train loss = 1.6099892738640789, train acc = 0.198\n",
      "Epoch 4, train loss = 1.6106890038200938, train acc = 0.189\n",
      "Epoch 5, train loss = 1.6097417193996362, train acc = 0.197\n",
      "=====================================================\n",
      "Epoch 5, test loss = 1.6096001402192994, test acc = 0.2\n",
      "=====================================================\n",
      "Epoch 6, train loss = 1.6100208552823791, train acc = 0.187\n",
      "Epoch 7, train loss = 1.6094655039232564, train acc = 0.1965\n",
      "Epoch 8, train loss = 1.6096601698115998, train acc = 0.1945\n",
      "Epoch 9, train loss = 1.6088138428439276, train acc = 0.2165\n",
      "Epoch 10, train loss = 1.6093670074388822, train acc = 0.1965\n",
      "=====================================================\n",
      "Epoch 10, test loss = 1.6090315864366274, test acc = 0.2\n",
      "=====================================================\n",
      "Epoch 11, train loss = 1.609273008764096, train acc = 0.2085\n",
      "Epoch 12, train loss = 1.6089667692521579, train acc = 0.207\n",
      "Epoch 13, train loss = 1.6086773101563172, train acc = 0.209\n",
      "Epoch 14, train loss = 1.6089045907140633, train acc = 0.2085\n",
      "Epoch 15, train loss = 1.607627641394799, train acc = 0.2285\n",
      "=====================================================\n",
      "Epoch 15, test loss = 1.6086052235035435, test acc = 0.2\n",
      "=====================================================\n",
      "Epoch 16, train loss = 1.6088862540279645, train acc = 0.204\n",
      "Epoch 17, train loss = 1.6085390462050342, train acc = 0.227\n",
      "Epoch 18, train loss = 1.6084273070183321, train acc = 0.216\n",
      "Epoch 19, train loss = 1.6080399688269922, train acc = 0.2245\n",
      "Epoch 20, train loss = 1.6078543020234435, train acc = 0.23\n",
      "=====================================================\n",
      "Epoch 20, test loss = 1.6082742998658106, test acc = 0.2\n",
      "=====================================================\n",
      "Epoch 21, train loss = 1.6079192947997802, train acc = 0.2265\n",
      "Epoch 22, train loss = 1.6081916627271775, train acc = 0.2195\n",
      "Epoch 23, train loss = 1.6071199794046218, train acc = 0.2465\n",
      "Epoch 24, train loss = 1.6071898261931195, train acc = 0.233\n",
      "Epoch 25, train loss = 1.6066952112780473, train acc = 0.2545\n",
      "=====================================================\n",
      "Epoch 25, test loss = 1.6076508096798112, test acc = 0.2016\n",
      "=====================================================\n",
      "Epoch 26, train loss = 1.6072874159271378, train acc = 0.221\n",
      "Epoch 27, train loss = 1.6070524019191028, train acc = 0.2455\n",
      "Epoch 28, train loss = 1.606807029722346, train acc = 0.2495\n",
      "Epoch 29, train loss = 1.6065960216200215, train acc = 0.243\n",
      "Epoch 30, train loss = 1.605163361778224, train acc = 0.2655\n",
      "=====================================================\n",
      "Epoch 30, test loss = 1.6068784313327, test acc = 0.3384\n",
      "=====================================================\n",
      "Epoch 31, train loss = 1.6058993925492, train acc = 0.2535\n",
      "Epoch 32, train loss = 1.605061618905517, train acc = 0.272\n",
      "Epoch 33, train loss = 1.6042163853495581, train acc = 0.2885\n",
      "Epoch 34, train loss = 1.6040242544340033, train acc = 0.284\n",
      "Epoch 35, train loss = 1.6028739043293923, train acc = 0.304\n",
      "=====================================================\n",
      "Epoch 35, test loss = 1.6052157595428056, test acc = 0.2964\n",
      "=====================================================\n",
      "Epoch 36, train loss = 1.602840800407084, train acc = 0.2925\n",
      "Epoch 37, train loss = 1.6019200810368623, train acc = 0.297\n",
      "Epoch 38, train loss = 1.6007476657248654, train acc = 0.3085\n",
      "Epoch 39, train loss = 1.6001247987136602, train acc = 0.303\n",
      "Epoch 40, train loss = 1.5985466114935776, train acc = 0.31\n",
      "=====================================================\n",
      "Epoch 40, test loss = 1.601679077098418, test acc = 0.312\n",
      "=====================================================\n",
      "Epoch 41, train loss = 1.5961761429975405, train acc = 0.319\n",
      "Epoch 42, train loss = 1.5944016551331923, train acc = 0.3295\n",
      "Epoch 43, train loss = 1.5923445536036482, train acc = 0.3325\n",
      "Epoch 44, train loss = 1.5892188708087238, train acc = 0.3435\n",
      "Epoch 45, train loss = 1.5869192934163356, train acc = 0.318\n",
      "=====================================================\n",
      "Epoch 45, test loss = 1.5931272467375512, test acc = 0.29\n",
      "=====================================================\n",
      "Epoch 46, train loss = 1.582018656861811, train acc = 0.34\n",
      "Epoch 47, train loss = 1.5751410341764094, train acc = 0.3755\n",
      "Epoch 48, train loss = 1.5684447455077757, train acc = 0.362\n",
      "Epoch 49, train loss = 1.5579470567067168, train acc = 0.375\n",
      "Epoch 50, train loss = 1.544477074987515, train acc = 0.373\n",
      "=====================================================\n",
      "Epoch 50, test loss = 1.5667626003547883, test acc = 0.2828\n",
      "=====================================================\n",
      "[[ 71  81 226  35  87]\n",
      " [ 22 164 138  21 155]\n",
      " [ 29  72 372  12  15]\n",
      " [ 30  23 342  53  52]\n",
      " [  0 194 253   6  47]]\n"
     ]
    },
    {
     "data": {
      "image/png": "[encoded data removed]",
      "text/plain": [
       "<Figure size 650x500 with 2 Axes>"
      ]
     },
     "metadata": {},
     "output_type": "display_data"
    },
    {
     "name": "stdout",
     "output_type": "stream",
     "text": [
      "[14.2 32.8 74.4 10.6  9.4]\n",
      "                        precision    recall  f1-score   support\n",
      "\n",
      "     Non-Ectopic Beats       0.47      0.14      0.22       500\n",
      "Superventrical Ectopic       0.31      0.33      0.32       500\n",
      "     Ventricular Beats       0.28      0.74      0.41       500\n",
      "               Unknown       0.42      0.11      0.17       500\n",
      "          Fusion Beats       0.13      0.09      0.11       500\n",
      "\n",
      "              accuracy                           0.28      2500\n",
      "             macro avg       0.32      0.28      0.24      2500\n",
      "          weighted avg       0.32      0.28      0.24      2500\n",
      "\n",
      "Finished Training and testing\n"
     ]
    }
   ],
   "source": [
    "# Define training hyperparameters\n",
    "import torch.optim as optim\n",
    "ECG_model = CNNLSTMModel()\n",
    "ECG_model.double()\n",
    "criterion = nn.CrossEntropyLoss()\n",
    "optimizer = optim.SGD(ECG_model.parameters(), lr=0.0005, momentum=0.9)\n",
    "train(ECG_model, syn_loader, test_real_loader, 50, criterion, optimizer, filename='synthetic_data')"
   ]
  },
  {
   "cell_type": "code",
   "execution_count": 19,
   "metadata": {},
   "outputs": [
    {
     "name": "stdout",
     "output_type": "stream",
     "text": [
      "Epoch 1, train loss = 1.6121734599297206, train acc = 0.202\n",
      "Epoch 2, train loss = 1.6108001940090262, train acc = 0.1984\n",
      "Epoch 3, train loss = 1.610391994581923, train acc = 0.2012\n",
      "Epoch 4, train loss = 1.609682353691391, train acc = 0.2074\n",
      "Epoch 5, train loss = 1.6099581933274945, train acc = 0.2008\n",
      "=====================================================\n",
      "Epoch 5, test loss = 1.6093455847109237, test acc = 0.2\n",
      "=====================================================\n",
      "Epoch 6, train loss = 1.6097162610738802, train acc = 0.2034\n",
      "Epoch 7, train loss = 1.60896421290599, train acc = 0.2062\n",
      "Epoch 8, train loss = 1.609180468022976, train acc = 0.2094\n",
      "Epoch 9, train loss = 1.6093041439138787, train acc = 0.2038\n",
      "Epoch 10, train loss = 1.6087430919710874, train acc = 0.2152\n",
      "=====================================================\n",
      "Epoch 10, test loss = 1.6087701615183538, test acc = 0.2612\n",
      "=====================================================\n",
      "Epoch 11, train loss = 1.6090277147535008, train acc = 0.2118\n",
      "Epoch 12, train loss = 1.6087349828916897, train acc = 0.2222\n",
      "Epoch 13, train loss = 1.608829604894374, train acc = 0.2198\n",
      "Epoch 14, train loss = 1.6085482760912937, train acc = 0.2156\n",
      "Epoch 15, train loss = 1.6085653565948363, train acc = 0.2242\n",
      "=====================================================\n",
      "Epoch 15, test loss = 1.6084025451914115, test acc = 0.3892\n",
      "=====================================================\n",
      "Epoch 16, train loss = 1.6085548878840663, train acc = 0.219\n",
      "Epoch 17, train loss = 1.6084772625322854, train acc = 0.2216\n",
      "Epoch 18, train loss = 1.6079334263449416, train acc = 0.2308\n",
      "Epoch 19, train loss = 1.6079964414003474, train acc = 0.234\n",
      "Epoch 20, train loss = 1.6077509504296306, train acc = 0.232\n",
      "=====================================================\n",
      "Epoch 20, test loss = 1.6078001024711532, test acc = 0.39\n",
      "=====================================================\n",
      "Epoch 21, train loss = 1.6079021673207607, train acc = 0.231\n",
      "Epoch 22, train loss = 1.6078529539750979, train acc = 0.23\n",
      "Epoch 23, train loss = 1.60733563793101, train acc = 0.2342\n",
      "Epoch 24, train loss = 1.6072040203984808, train acc = 0.251\n",
      "Epoch 25, train loss = 1.6069674740599837, train acc = 0.2458\n",
      "=====================================================\n",
      "Epoch 25, test loss = 1.6067921452424587, test acc = 0.3416\n",
      "=====================================================\n",
      "Epoch 26, train loss = 1.60706607400677, train acc = 0.2382\n",
      "Epoch 27, train loss = 1.6066809222761065, train acc = 0.2454\n",
      "Epoch 28, train loss = 1.606117539073629, train acc = 0.2564\n",
      "Epoch 29, train loss = 1.6053680256628873, train acc = 0.272\n",
      "Epoch 30, train loss = 1.6051134776433797, train acc = 0.2764\n",
      "=====================================================\n",
      "Epoch 30, test loss = 1.6047722996295484, test acc = 0.3196\n",
      "=====================================================\n",
      "[[ 19  69  29 310  73]\n",
      " [ 13  52  18  98 319]\n",
      " [  0   4  63 383  50]\n",
      " [ 11  17  23 425  24]\n",
      " [  7  48  35 170 240]]\n"
     ]
    },
    {
     "data": {
      "image/png": "[encoded data removed]",
      "text/plain": [
       "<Figure size 650x500 with 2 Axes>"
      ]
     },
     "metadata": {},
     "output_type": "display_data"
    },
    {
     "name": "stdout",
     "output_type": "stream",
     "text": [
      "[ 3.8 10.4 12.6 85.  48. ]\n",
      "                        precision    recall  f1-score   support\n",
      "\n",
      "     Non-Ectopic Beats       0.38      0.04      0.07       500\n",
      "Superventrical Ectopic       0.27      0.10      0.15       500\n",
      "     Ventricular Beats       0.38      0.13      0.19       500\n",
      "               Unknown       0.31      0.85      0.45       500\n",
      "          Fusion Beats       0.34      0.48      0.40       500\n",
      "\n",
      "              accuracy                           0.32      2500\n",
      "             macro avg       0.34      0.32      0.25      2500\n",
      "          weighted avg       0.34      0.32      0.25      2500\n",
      "\n",
      "Finished Training and testing\n"
     ]
    }
   ],
   "source": [
    "# Define training hyperparameters\n",
    "import torch.optim as optim\n",
    "ECG_model = CNNLSTMModel()\n",
    "ECG_model.double()\n",
    "criterion = nn.CrossEntropyLoss()\n",
    "optimizer = optim.SGD(ECG_model.parameters(), lr=0.0005, momentum=0.9)\n",
    "train(ECG_model, real_loader, test_real_loader, 30, criterion, optimizer, filename='real_data')"
   ]
  },
  {
   "cell_type": "code",
   "execution_count": 31,
   "metadata": {},
   "outputs": [
    {
     "name": "stdout",
     "output_type": "stream",
     "text": [
      "Epoch 1, train loss = 1.5814330717591014, train acc = 0.4024\n",
      "Epoch 2, train loss = 1.4585826100719246, train acc = 0.584\n",
      "Epoch 3, train loss = 1.1239665608866969, train acc = 0.6668\n",
      "Epoch 4, train loss = 0.7841169974435332, train acc = 0.7836\n",
      "Epoch 5, train loss = 0.5993914336677352, train acc = 0.85\n",
      "=====================================================\n",
      "Epoch 5, test loss = 1.0597550817412034, test acc = 0.6756\n",
      "=====================================================\n",
      "Epoch 6, train loss = 0.49805537358454655, train acc = 0.8704\n",
      "Epoch 7, train loss = 0.4204245293252599, train acc = 0.9008\n",
      "Epoch 8, train loss = 0.37001130851142183, train acc = 0.9108\n",
      "Epoch 9, train loss = 0.3429959246260172, train acc = 0.9152\n",
      "Epoch 10, train loss = 0.3224138628301249, train acc = 0.9192\n",
      "=====================================================\n",
      "Epoch 10, test loss = 0.7962201912624791, test acc = 0.72\n",
      "=====================================================\n",
      "Epoch 11, train loss = 0.2915033293238698, train acc = 0.9272\n",
      "Epoch 12, train loss = 0.2825278351474832, train acc = 0.9288\n",
      "Epoch 13, train loss = 0.26833993750350765, train acc = 0.9324\n",
      "Epoch 14, train loss = 0.2641316925508864, train acc = 0.9336\n",
      "Epoch 15, train loss = 0.25266073719070664, train acc = 0.9336\n",
      "=====================================================\n",
      "Epoch 15, test loss = 0.6741619990775904, test acc = 0.7524\n",
      "=====================================================\n",
      "Epoch 16, train loss = 0.24148371360685789, train acc = 0.9328\n",
      "Epoch 17, train loss = 0.22111796981238496, train acc = 0.9372\n",
      "Epoch 18, train loss = 0.21930270440118688, train acc = 0.9372\n",
      "Epoch 19, train loss = 0.21348915625781587, train acc = 0.9404\n",
      "Epoch 20, train loss = 0.20066312431552924, train acc = 0.9484\n",
      "=====================================================\n",
      "Epoch 20, test loss = 0.6438306743264467, test acc = 0.7552\n",
      "=====================================================\n",
      "Epoch 21, train loss = 0.20135572230077797, train acc = 0.9444\n",
      "Epoch 22, train loss = 0.18261131674687922, train acc = 0.9492\n",
      "Epoch 23, train loss = 0.1892335248504251, train acc = 0.946\n",
      "Epoch 24, train loss = 0.18897490245905804, train acc = 0.942\n",
      "Epoch 25, train loss = 0.1899711736699983, train acc = 0.946\n",
      "=====================================================\n",
      "Epoch 25, test loss = 0.6801156512913866, test acc = 0.7556\n",
      "=====================================================\n",
      "Epoch 26, train loss = 0.18531983402954955, train acc = 0.9484\n",
      "Epoch 27, train loss = 0.15375868657121866, train acc = 0.952\n",
      "Epoch 28, train loss = 0.17364433356812636, train acc = 0.9492\n",
      "Epoch 29, train loss = 0.16267362983243575, train acc = 0.9544\n",
      "Epoch 30, train loss = 0.14892377850750077, train acc = 0.9536\n",
      "=====================================================\n",
      "Epoch 30, test loss = 0.5363626869604482, test acc = 0.8028\n",
      "=====================================================\n",
      "Epoch 31, train loss = 0.17725516505345085, train acc = 0.9464\n",
      "Epoch 32, train loss = 0.1510247431300695, train acc = 0.9564\n",
      "Epoch 33, train loss = 0.13833636682308229, train acc = 0.96\n",
      "Epoch 34, train loss = 0.13060386619301767, train acc = 0.9628\n",
      "Epoch 35, train loss = 0.13060623824409012, train acc = 0.9624\n",
      "=====================================================\n",
      "Epoch 35, test loss = 0.5864660072790151, test acc = 0.7848\n",
      "=====================================================\n",
      "Epoch 36, train loss = 0.12239348571548542, train acc = 0.958\n",
      "Epoch 37, train loss = 0.12855168785911886, train acc = 0.962\n",
      "Epoch 38, train loss = 0.13561596884026794, train acc = 0.9572\n",
      "Epoch 39, train loss = 0.12264239758423015, train acc = 0.962\n",
      "Epoch 40, train loss = 0.1265161247213076, train acc = 0.968\n",
      "=====================================================\n",
      "Epoch 40, test loss = 0.5442962394968014, test acc = 0.8112\n",
      "=====================================================\n",
      "Epoch 41, train loss = 0.13399517610424702, train acc = 0.9568\n",
      "Epoch 42, train loss = 0.11162452817484105, train acc = 0.9612\n",
      "Epoch 43, train loss = 0.11052195571979574, train acc = 0.9632\n",
      "Epoch 44, train loss = 0.12615864896173795, train acc = 0.9616\n",
      "Epoch 45, train loss = 0.10411673798452893, train acc = 0.9652\n",
      "=====================================================\n",
      "Epoch 45, test loss = 0.5033341088268737, test acc = 0.8116\n",
      "=====================================================\n",
      "Epoch 46, train loss = 0.11240074146960927, train acc = 0.9644\n",
      "Epoch 47, train loss = 0.09704065875366269, train acc = 0.9684\n",
      "Epoch 48, train loss = 0.09702712758155511, train acc = 0.9692\n",
      "Epoch 49, train loss = 0.10205704869925757, train acc = 0.9692\n",
      "Epoch 50, train loss = 0.08413476913211948, train acc = 0.9732\n",
      "=====================================================\n",
      "Epoch 50, test loss = 0.49601394801773074, test acc = 0.8224\n",
      "=====================================================\n",
      "[[309  43   9 119  20]\n",
      " [  6 469   0   5  20]\n",
      " [ 10  46 424  20   0]\n",
      " [ 44  11  17 414  14]\n",
      " [ 13  38   4   5 440]]\n"
     ]
    },
    {
     "data": {
      "image/png": "[encoded data removed]",
      "text/plain": [
       "<Figure size 650x500 with 2 Axes>"
      ]
     },
     "metadata": {},
     "output_type": "display_data"
    },
    {
     "name": "stdout",
     "output_type": "stream",
     "text": [
      "[61.8 93.8 84.8 82.8 88. ]\n",
      "                        precision    recall  f1-score   support\n",
      "\n",
      "     Non-Ectopic Beats       0.81      0.62      0.70       500\n",
      "Superventrical Ectopic       0.77      0.94      0.85       500\n",
      "     Ventricular Beats       0.93      0.85      0.89       500\n",
      "               Unknown       0.74      0.83      0.78       500\n",
      "          Fusion Beats       0.89      0.88      0.89       500\n",
      "\n",
      "              accuracy                           0.82      2500\n",
      "             macro avg       0.83      0.82      0.82      2500\n",
      "          weighted avg       0.83      0.82      0.82      2500\n",
      "\n",
      "Finished Training and testing\n"
     ]
    }
   ],
   "source": [
    "import torch.optim as optim\n",
    "ECG_model = ECG_Net()\n",
    "ECG_model.double()\n",
    "criterion = nn.CrossEntropyLoss()\n",
    "optimizer = optim.SGD(ECG_model.parameters(), lr=0.0005, momentum=0.9)\n",
    "train(ECG_model, mixed_loader, test_real_loader, 50, criterion, optimizer, filename='mixed_data')"
   ]
  }
 ],
 "metadata": {
  "interpreter": {
   "hash": "31f2aee4e71d21fbe5cf8b01ff0e069b9275f58929596ceb00d14d90e3e16cd6"
  },
  "kernelspec": {
   "display_name": "Python 3.6.9 64-bit",
   "language": "python",
   "name": "python3"
  },
  "language_info": {
   "codemirror_mode": {
    "name": "ipython",
    "version": 3
   },
   "file_extension": ".py",
   "mimetype": "text/x-python",
   "name": "python",
   "nbconvert_exporter": "python",
   "pygments_lexer": "ipython3",
   "version": "3.6.9"
  }
 },
 "nbformat": 4,
 "nbformat_minor": 4
}
